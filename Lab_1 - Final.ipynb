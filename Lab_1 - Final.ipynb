{
 "cells": [
  {
   "cell_type": "code",
   "execution_count": 229,
   "metadata": {
    "collapsed": false
   },
   "outputs": [
    {
     "name": "stdout",
     "output_type": "stream",
     "text": [
      "--------------------------------------------------------------\n",
      "MSDS 7331 - Lab #1\n",
      "Team: Scott Anderwald, Marvin Scott, Salomon Gilles, Earl Shaw\n",
      "Bank Marketing Data - Exploratory Data Analysis\n",
      "January 29, 2017\n",
      "--------------------------------------------------------------\n",
      "\n",
      "The dataset was collected by a Portuguese bank running a marketing campaign \n",
      "with the goal of selling term subscriptions. A client is contacted more than \n",
      "once by phone before it could be determined if the client would make a purchase.\n",
      "The dataset is a repository of over 41,000 rows or entries.\n",
      "Each row has 20 features representing the explanatory variables we will manipulate \n",
      "to arrive at one binary response variable. Preliminary data validation and test exhibit good \n",
      "results which are convincing evidence of valid data mining. The final output the binary response \n",
      "will enable us to interpret 1 for subscribed and 0 not subscribed. Hence, we conduct various \n",
      "analyses with the aggregation of responses to conclude the effectiveness \n",
      "of our prediction algorithm.\n",
      "\n"
     ]
    }
   ],
   "source": [
    "## Business Understanding - Describe the purpose of the data set you selected.\n",
    "print ('--------------------------------------------------------------')\n",
    "print ('MSDS 7331 - Lab #1')\n",
    "print ('Team: Scott Anderwald, Marvin Scott, Salomon Gilles, Earl Shaw')\n",
    "print ('Bank Marketing Data - Exploratory Data Analysis')\n",
    "print ('January 29, 2017')\n",
    "print ('--------------------------------------------------------------')\n",
    "print ('')\n",
    "print('The dataset was collected by a Portuguese bank running a marketing campaign ')\n",
    "print('with the goal of selling term subscriptions. A client is contacted more than ')\n",
    "print('once by phone before it could be determined if the client would make a purchase.')\n",
    "print('The dataset is a repository of over 41,000 rows or entries.')\n",
    "print('Each row has 20 features representing the explanatory variables we will manipulate ')\n",
    "print('to arrive at one binary response variable. Preliminary data validation and test exhibit good ')\n",
    "print('results which are convincing evidence of valid data mining. The final output the binary response ')\n",
    "print('will enable us to interpret 1 for subscribed and 0 not subscribed. Hence, we conduct various ')\n",
    "print('analyses with the aggregation of responses to conclude the effectiveness ')\n",
    "print('of our prediction algorithm.')\n",
    "print('')\n"
   ]
  },
  {
   "cell_type": "code",
   "execution_count": null,
   "metadata": {
    "collapsed": true
   },
   "outputs": [],
   "source": [
    "# Description of the 20 variables can be found at: https://archive.ics.uci.edu/ml/datasets/Bank+Marketing#. \n",
    "# For this project 20 out of the 21 variables will be used. Below are the variables used for this project.\n",
    "\n",
    "# age: Age of customer\n",
    "# job: Job of the customer (categorical: 'admin.', 'blue-collar', 'entrepreneur', 'housemaid','management', \n",
    "# 'retired', 'self-employed', 'services', 'student', 'technician', 'unemployed', 'unknown')\n",
    "# marital: Marital status of the customer (categorical: 'divorced', 'married', 'single', 'unknown', 'note: 'divorced or widowed')\n",
    "# education: Education level of the customer (categorical: 'basic.4y' ,'basic.6y', 'basic.9y', 'high.school', 'illiterate', 'professional.course', \n",
    "# 'university.degree', 'uknown')\n",
    "# default: Does the customer have credit in default? (categorical: 'no', 'yes', 'unkown')\n",
    "# housing: Does the customer have a current house loan? (categorical: 'no', 'yes', 'unknown')\n",
    "# loan: Does the customer have a current loan? (categorical: 'no', 'yes' ,'unknown'); related with the last contact of the current campaign\n",
    "# contact: Method of contact for the customer? (categorical: 'cellular', 'telephone')\n",
    "# month: Last month of contact for the customer (categorical: 'jan' ,'feb' ,'mar', ... ,'nov', 'dec')\n",
    "# day_of_week: Last day of contact for the customer (categorical: 'mon', 'tue','wed', 'thu', 'fri')\n",
    "# campaign: Number of contacts performed during this campaign for this customer (numeric, includes last contact)\n",
    "# pdays: number of days that passed by after the customer was last contacted from a previous campaign (numeric;\n",
    "# '999' means client was not previously contacted)\n",
    "# previous: Previous number of contacts performed before this campaign for the customer (numeric)\n",
    "# poutcome: Outcome of the previous marketing campaign (categorical: 'failure', 'nonexistent', 'success')\n",
    "# emp.var.rate: Employment variation rate - quarterly indicator (numeric)\n",
    "# cons.price.idx: Consumer Price Index - monthly indicator (numeric)\n",
    "# cons.conf.idx: Consumer Confidence Index - monthly indicator (numeric)\n",
    "# euribor3m: Euribor 3 Month Rate - daily indicator (numeric)\n",
    "# nr.employed: Number of Employees - quarterly indicator (numeric)\n",
    "# y: Has the customer subscribed to a term deposit (binary: 'yes', 'no)"
   ]
  },
  {
   "cell_type": "code",
   "execution_count": 1,
   "metadata": {
    "collapsed": false
   },
   "outputs": [],
   "source": [
    "## Data Understanding - Verify data quality\n",
    "\n",
    "# Loading relevant libraries used throughout the analysis.\n",
    "import pandas as pd\n",
    "import numpy as np\n",
    "import matplotlib.pyplot as plt\n",
    "import seaborn as sns\n",
    "from pandas.tools.plotting import scatter_matrix\n",
    "import warnings\n",
    "warnings.simplefilter('ignore', DeprecationWarning)\n",
    "%matplotlib inline\n",
    "\n",
    "# Loading the \"DelayedFlights.csv\" data set\n",
    "bank=pd.read_csv('C:\\\\Users\\\\Earl\\\\Documents\\\\MSDS 7331\\\\Data\\\\Lab 1\\\\bank_data.csv')\n",
    "# https://archive.ics.uci.edu/ml/datasets/Bank+Marketing\n",
    "\n",
    "# Number of rows in data set (41,187 rows total)"
   ]
  },
  {
   "cell_type": "code",
   "execution_count": 164,
   "metadata": {
    "collapsed": false,
    "scrolled": true
   },
   "outputs": [
    {
     "name": "stdout",
     "output_type": "stream",
     "text": [
      "---------------------------\n",
      "Initial Summary Statistics:\n",
      "---------------------------\n"
     ]
    },
    {
     "data": {
      "text/html": [
       "<div>\n",
       "<table border=\"1\" class=\"dataframe\">\n",
       "  <thead>\n",
       "    <tr style=\"text-align: right;\">\n",
       "      <th></th>\n",
       "      <th>age</th>\n",
       "      <th>job</th>\n",
       "      <th>marital</th>\n",
       "      <th>education</th>\n",
       "      <th>default</th>\n",
       "      <th>housing</th>\n",
       "      <th>loan</th>\n",
       "      <th>contact</th>\n",
       "      <th>month</th>\n",
       "      <th>day_of_week</th>\n",
       "      <th>...</th>\n",
       "      <th>campaign</th>\n",
       "      <th>pdays</th>\n",
       "      <th>previous</th>\n",
       "      <th>poutcome</th>\n",
       "      <th>emp.var.rate</th>\n",
       "      <th>cons.price.idx</th>\n",
       "      <th>cons.conf.idx</th>\n",
       "      <th>euribor3m</th>\n",
       "      <th>nr.employed</th>\n",
       "      <th>y</th>\n",
       "    </tr>\n",
       "  </thead>\n",
       "  <tbody>\n",
       "    <tr>\n",
       "      <th>0</th>\n",
       "      <td>56</td>\n",
       "      <td>housemaid</td>\n",
       "      <td>married</td>\n",
       "      <td>basic.4y</td>\n",
       "      <td>no</td>\n",
       "      <td>no</td>\n",
       "      <td>no</td>\n",
       "      <td>telephone</td>\n",
       "      <td>may</td>\n",
       "      <td>mon</td>\n",
       "      <td>...</td>\n",
       "      <td>1</td>\n",
       "      <td>999</td>\n",
       "      <td>0</td>\n",
       "      <td>nonexistent</td>\n",
       "      <td>1.1</td>\n",
       "      <td>93.994</td>\n",
       "      <td>-36.4</td>\n",
       "      <td>4.857</td>\n",
       "      <td>5191.0</td>\n",
       "      <td>no</td>\n",
       "    </tr>\n",
       "    <tr>\n",
       "      <th>1</th>\n",
       "      <td>57</td>\n",
       "      <td>services</td>\n",
       "      <td>married</td>\n",
       "      <td>high.school</td>\n",
       "      <td>unknown</td>\n",
       "      <td>no</td>\n",
       "      <td>no</td>\n",
       "      <td>telephone</td>\n",
       "      <td>may</td>\n",
       "      <td>mon</td>\n",
       "      <td>...</td>\n",
       "      <td>1</td>\n",
       "      <td>999</td>\n",
       "      <td>0</td>\n",
       "      <td>nonexistent</td>\n",
       "      <td>1.1</td>\n",
       "      <td>93.994</td>\n",
       "      <td>-36.4</td>\n",
       "      <td>4.857</td>\n",
       "      <td>5191.0</td>\n",
       "      <td>no</td>\n",
       "    </tr>\n",
       "    <tr>\n",
       "      <th>2</th>\n",
       "      <td>37</td>\n",
       "      <td>services</td>\n",
       "      <td>married</td>\n",
       "      <td>high.school</td>\n",
       "      <td>no</td>\n",
       "      <td>yes</td>\n",
       "      <td>no</td>\n",
       "      <td>telephone</td>\n",
       "      <td>may</td>\n",
       "      <td>mon</td>\n",
       "      <td>...</td>\n",
       "      <td>1</td>\n",
       "      <td>999</td>\n",
       "      <td>0</td>\n",
       "      <td>nonexistent</td>\n",
       "      <td>1.1</td>\n",
       "      <td>93.994</td>\n",
       "      <td>-36.4</td>\n",
       "      <td>4.857</td>\n",
       "      <td>5191.0</td>\n",
       "      <td>no</td>\n",
       "    </tr>\n",
       "    <tr>\n",
       "      <th>3</th>\n",
       "      <td>40</td>\n",
       "      <td>admin.</td>\n",
       "      <td>married</td>\n",
       "      <td>basic.6y</td>\n",
       "      <td>no</td>\n",
       "      <td>no</td>\n",
       "      <td>no</td>\n",
       "      <td>telephone</td>\n",
       "      <td>may</td>\n",
       "      <td>mon</td>\n",
       "      <td>...</td>\n",
       "      <td>1</td>\n",
       "      <td>999</td>\n",
       "      <td>0</td>\n",
       "      <td>nonexistent</td>\n",
       "      <td>1.1</td>\n",
       "      <td>93.994</td>\n",
       "      <td>-36.4</td>\n",
       "      <td>4.857</td>\n",
       "      <td>5191.0</td>\n",
       "      <td>no</td>\n",
       "    </tr>\n",
       "    <tr>\n",
       "      <th>4</th>\n",
       "      <td>56</td>\n",
       "      <td>services</td>\n",
       "      <td>married</td>\n",
       "      <td>high.school</td>\n",
       "      <td>no</td>\n",
       "      <td>no</td>\n",
       "      <td>yes</td>\n",
       "      <td>telephone</td>\n",
       "      <td>may</td>\n",
       "      <td>mon</td>\n",
       "      <td>...</td>\n",
       "      <td>1</td>\n",
       "      <td>999</td>\n",
       "      <td>0</td>\n",
       "      <td>nonexistent</td>\n",
       "      <td>1.1</td>\n",
       "      <td>93.994</td>\n",
       "      <td>-36.4</td>\n",
       "      <td>4.857</td>\n",
       "      <td>5191.0</td>\n",
       "      <td>no</td>\n",
       "    </tr>\n",
       "    <tr>\n",
       "      <th>5</th>\n",
       "      <td>45</td>\n",
       "      <td>services</td>\n",
       "      <td>married</td>\n",
       "      <td>basic.9y</td>\n",
       "      <td>unknown</td>\n",
       "      <td>no</td>\n",
       "      <td>no</td>\n",
       "      <td>telephone</td>\n",
       "      <td>may</td>\n",
       "      <td>mon</td>\n",
       "      <td>...</td>\n",
       "      <td>1</td>\n",
       "      <td>999</td>\n",
       "      <td>0</td>\n",
       "      <td>nonexistent</td>\n",
       "      <td>1.1</td>\n",
       "      <td>93.994</td>\n",
       "      <td>-36.4</td>\n",
       "      <td>4.857</td>\n",
       "      <td>5191.0</td>\n",
       "      <td>no</td>\n",
       "    </tr>\n",
       "    <tr>\n",
       "      <th>6</th>\n",
       "      <td>59</td>\n",
       "      <td>admin.</td>\n",
       "      <td>married</td>\n",
       "      <td>professional.course</td>\n",
       "      <td>no</td>\n",
       "      <td>no</td>\n",
       "      <td>no</td>\n",
       "      <td>telephone</td>\n",
       "      <td>may</td>\n",
       "      <td>mon</td>\n",
       "      <td>...</td>\n",
       "      <td>1</td>\n",
       "      <td>999</td>\n",
       "      <td>0</td>\n",
       "      <td>nonexistent</td>\n",
       "      <td>1.1</td>\n",
       "      <td>93.994</td>\n",
       "      <td>-36.4</td>\n",
       "      <td>4.857</td>\n",
       "      <td>5191.0</td>\n",
       "      <td>no</td>\n",
       "    </tr>\n",
       "    <tr>\n",
       "      <th>7</th>\n",
       "      <td>41</td>\n",
       "      <td>blue-collar</td>\n",
       "      <td>married</td>\n",
       "      <td>unknown</td>\n",
       "      <td>unknown</td>\n",
       "      <td>no</td>\n",
       "      <td>no</td>\n",
       "      <td>telephone</td>\n",
       "      <td>may</td>\n",
       "      <td>mon</td>\n",
       "      <td>...</td>\n",
       "      <td>1</td>\n",
       "      <td>999</td>\n",
       "      <td>0</td>\n",
       "      <td>nonexistent</td>\n",
       "      <td>1.1</td>\n",
       "      <td>93.994</td>\n",
       "      <td>-36.4</td>\n",
       "      <td>4.857</td>\n",
       "      <td>5191.0</td>\n",
       "      <td>no</td>\n",
       "    </tr>\n",
       "    <tr>\n",
       "      <th>8</th>\n",
       "      <td>24</td>\n",
       "      <td>technician</td>\n",
       "      <td>single</td>\n",
       "      <td>professional.course</td>\n",
       "      <td>no</td>\n",
       "      <td>yes</td>\n",
       "      <td>no</td>\n",
       "      <td>telephone</td>\n",
       "      <td>may</td>\n",
       "      <td>mon</td>\n",
       "      <td>...</td>\n",
       "      <td>1</td>\n",
       "      <td>999</td>\n",
       "      <td>0</td>\n",
       "      <td>nonexistent</td>\n",
       "      <td>1.1</td>\n",
       "      <td>93.994</td>\n",
       "      <td>-36.4</td>\n",
       "      <td>4.857</td>\n",
       "      <td>5191.0</td>\n",
       "      <td>no</td>\n",
       "    </tr>\n",
       "    <tr>\n",
       "      <th>9</th>\n",
       "      <td>25</td>\n",
       "      <td>services</td>\n",
       "      <td>single</td>\n",
       "      <td>high.school</td>\n",
       "      <td>no</td>\n",
       "      <td>yes</td>\n",
       "      <td>no</td>\n",
       "      <td>telephone</td>\n",
       "      <td>may</td>\n",
       "      <td>mon</td>\n",
       "      <td>...</td>\n",
       "      <td>1</td>\n",
       "      <td>999</td>\n",
       "      <td>0</td>\n",
       "      <td>nonexistent</td>\n",
       "      <td>1.1</td>\n",
       "      <td>93.994</td>\n",
       "      <td>-36.4</td>\n",
       "      <td>4.857</td>\n",
       "      <td>5191.0</td>\n",
       "      <td>no</td>\n",
       "    </tr>\n",
       "  </tbody>\n",
       "</table>\n",
       "<p>10 rows × 21 columns</p>\n",
       "</div>"
      ],
      "text/plain": [
       "   age          job  marital            education  default housing loan  \\\n",
       "0   56    housemaid  married             basic.4y       no      no   no   \n",
       "1   57     services  married          high.school  unknown      no   no   \n",
       "2   37     services  married          high.school       no     yes   no   \n",
       "3   40       admin.  married             basic.6y       no      no   no   \n",
       "4   56     services  married          high.school       no      no  yes   \n",
       "5   45     services  married             basic.9y  unknown      no   no   \n",
       "6   59       admin.  married  professional.course       no      no   no   \n",
       "7   41  blue-collar  married              unknown  unknown      no   no   \n",
       "8   24   technician   single  professional.course       no     yes   no   \n",
       "9   25     services   single          high.school       no     yes   no   \n",
       "\n",
       "     contact month day_of_week ...  campaign  pdays  previous     poutcome  \\\n",
       "0  telephone   may         mon ...         1    999         0  nonexistent   \n",
       "1  telephone   may         mon ...         1    999         0  nonexistent   \n",
       "2  telephone   may         mon ...         1    999         0  nonexistent   \n",
       "3  telephone   may         mon ...         1    999         0  nonexistent   \n",
       "4  telephone   may         mon ...         1    999         0  nonexistent   \n",
       "5  telephone   may         mon ...         1    999         0  nonexistent   \n",
       "6  telephone   may         mon ...         1    999         0  nonexistent   \n",
       "7  telephone   may         mon ...         1    999         0  nonexistent   \n",
       "8  telephone   may         mon ...         1    999         0  nonexistent   \n",
       "9  telephone   may         mon ...         1    999         0  nonexistent   \n",
       "\n",
       "  emp.var.rate  cons.price.idx  cons.conf.idx  euribor3m  nr.employed   y  \n",
       "0          1.1          93.994          -36.4      4.857       5191.0  no  \n",
       "1          1.1          93.994          -36.4      4.857       5191.0  no  \n",
       "2          1.1          93.994          -36.4      4.857       5191.0  no  \n",
       "3          1.1          93.994          -36.4      4.857       5191.0  no  \n",
       "4          1.1          93.994          -36.4      4.857       5191.0  no  \n",
       "5          1.1          93.994          -36.4      4.857       5191.0  no  \n",
       "6          1.1          93.994          -36.4      4.857       5191.0  no  \n",
       "7          1.1          93.994          -36.4      4.857       5191.0  no  \n",
       "8          1.1          93.994          -36.4      4.857       5191.0  no  \n",
       "9          1.1          93.994          -36.4      4.857       5191.0  no  \n",
       "\n",
       "[10 rows x 21 columns]"
      ]
     },
     "execution_count": 164,
     "metadata": {},
     "output_type": "execute_result"
    }
   ],
   "source": [
    "print ('---------------------------')\n",
    "print ('Initial Summary Statistics:')\n",
    "print ('---------------------------')\n",
    "bank.head(10) # Initial view of data set"
   ]
  },
  {
   "cell_type": "code",
   "execution_count": 165,
   "metadata": {
    "collapsed": false,
    "scrolled": false
   },
   "outputs": [
    {
     "name": "stdout",
     "output_type": "stream",
     "text": [
      "-----------------------------------------\n",
      "Summary Statistics Prior to Data Handling\n",
      "-----------------------------------------\n"
     ]
    },
    {
     "data": {
      "text/html": [
       "<div>\n",
       "<table border=\"1\" class=\"dataframe\">\n",
       "  <thead>\n",
       "    <tr style=\"text-align: right;\">\n",
       "      <th></th>\n",
       "      <th>age</th>\n",
       "      <th>duration</th>\n",
       "      <th>campaign</th>\n",
       "      <th>pdays</th>\n",
       "      <th>previous</th>\n",
       "      <th>emp.var.rate</th>\n",
       "      <th>cons.price.idx</th>\n",
       "      <th>cons.conf.idx</th>\n",
       "      <th>euribor3m</th>\n",
       "      <th>nr.employed</th>\n",
       "    </tr>\n",
       "  </thead>\n",
       "  <tbody>\n",
       "    <tr>\n",
       "      <th>count</th>\n",
       "      <td>41188.00000</td>\n",
       "      <td>41188.000000</td>\n",
       "      <td>41188.000000</td>\n",
       "      <td>41188.000000</td>\n",
       "      <td>41188.000000</td>\n",
       "      <td>41188.000000</td>\n",
       "      <td>41188.000000</td>\n",
       "      <td>41188.000000</td>\n",
       "      <td>41188.000000</td>\n",
       "      <td>41188.000000</td>\n",
       "    </tr>\n",
       "    <tr>\n",
       "      <th>mean</th>\n",
       "      <td>40.02406</td>\n",
       "      <td>258.285010</td>\n",
       "      <td>2.567593</td>\n",
       "      <td>962.475454</td>\n",
       "      <td>0.172963</td>\n",
       "      <td>0.081886</td>\n",
       "      <td>93.575664</td>\n",
       "      <td>-40.502600</td>\n",
       "      <td>3.621291</td>\n",
       "      <td>5167.035911</td>\n",
       "    </tr>\n",
       "    <tr>\n",
       "      <th>std</th>\n",
       "      <td>10.42125</td>\n",
       "      <td>259.279249</td>\n",
       "      <td>2.770014</td>\n",
       "      <td>186.910907</td>\n",
       "      <td>0.494901</td>\n",
       "      <td>1.570960</td>\n",
       "      <td>0.578840</td>\n",
       "      <td>4.628198</td>\n",
       "      <td>1.734447</td>\n",
       "      <td>72.251528</td>\n",
       "    </tr>\n",
       "    <tr>\n",
       "      <th>min</th>\n",
       "      <td>17.00000</td>\n",
       "      <td>0.000000</td>\n",
       "      <td>1.000000</td>\n",
       "      <td>0.000000</td>\n",
       "      <td>0.000000</td>\n",
       "      <td>-3.400000</td>\n",
       "      <td>92.201000</td>\n",
       "      <td>-50.800000</td>\n",
       "      <td>0.634000</td>\n",
       "      <td>4963.600000</td>\n",
       "    </tr>\n",
       "    <tr>\n",
       "      <th>25%</th>\n",
       "      <td>32.00000</td>\n",
       "      <td>102.000000</td>\n",
       "      <td>1.000000</td>\n",
       "      <td>999.000000</td>\n",
       "      <td>0.000000</td>\n",
       "      <td>-1.800000</td>\n",
       "      <td>93.075000</td>\n",
       "      <td>-42.700000</td>\n",
       "      <td>1.344000</td>\n",
       "      <td>5099.100000</td>\n",
       "    </tr>\n",
       "    <tr>\n",
       "      <th>50%</th>\n",
       "      <td>38.00000</td>\n",
       "      <td>180.000000</td>\n",
       "      <td>2.000000</td>\n",
       "      <td>999.000000</td>\n",
       "      <td>0.000000</td>\n",
       "      <td>1.100000</td>\n",
       "      <td>93.749000</td>\n",
       "      <td>-41.800000</td>\n",
       "      <td>4.857000</td>\n",
       "      <td>5191.000000</td>\n",
       "    </tr>\n",
       "    <tr>\n",
       "      <th>75%</th>\n",
       "      <td>47.00000</td>\n",
       "      <td>319.000000</td>\n",
       "      <td>3.000000</td>\n",
       "      <td>999.000000</td>\n",
       "      <td>0.000000</td>\n",
       "      <td>1.400000</td>\n",
       "      <td>93.994000</td>\n",
       "      <td>-36.400000</td>\n",
       "      <td>4.961000</td>\n",
       "      <td>5228.100000</td>\n",
       "    </tr>\n",
       "    <tr>\n",
       "      <th>max</th>\n",
       "      <td>98.00000</td>\n",
       "      <td>4918.000000</td>\n",
       "      <td>56.000000</td>\n",
       "      <td>999.000000</td>\n",
       "      <td>7.000000</td>\n",
       "      <td>1.400000</td>\n",
       "      <td>94.767000</td>\n",
       "      <td>-26.900000</td>\n",
       "      <td>5.045000</td>\n",
       "      <td>5228.100000</td>\n",
       "    </tr>\n",
       "  </tbody>\n",
       "</table>\n",
       "</div>"
      ],
      "text/plain": [
       "               age      duration      campaign         pdays      previous  \\\n",
       "count  41188.00000  41188.000000  41188.000000  41188.000000  41188.000000   \n",
       "mean      40.02406    258.285010      2.567593    962.475454      0.172963   \n",
       "std       10.42125    259.279249      2.770014    186.910907      0.494901   \n",
       "min       17.00000      0.000000      1.000000      0.000000      0.000000   \n",
       "25%       32.00000    102.000000      1.000000    999.000000      0.000000   \n",
       "50%       38.00000    180.000000      2.000000    999.000000      0.000000   \n",
       "75%       47.00000    319.000000      3.000000    999.000000      0.000000   \n",
       "max       98.00000   4918.000000     56.000000    999.000000      7.000000   \n",
       "\n",
       "       emp.var.rate  cons.price.idx  cons.conf.idx     euribor3m   nr.employed  \n",
       "count  41188.000000    41188.000000   41188.000000  41188.000000  41188.000000  \n",
       "mean       0.081886       93.575664     -40.502600      3.621291   5167.035911  \n",
       "std        1.570960        0.578840       4.628198      1.734447     72.251528  \n",
       "min       -3.400000       92.201000     -50.800000      0.634000   4963.600000  \n",
       "25%       -1.800000       93.075000     -42.700000      1.344000   5099.100000  \n",
       "50%        1.100000       93.749000     -41.800000      4.857000   5191.000000  \n",
       "75%        1.400000       93.994000     -36.400000      4.961000   5228.100000  \n",
       "max        1.400000       94.767000     -26.900000      5.045000   5228.100000  "
      ]
     },
     "execution_count": 165,
     "metadata": {},
     "output_type": "execute_result"
    }
   ],
   "source": [
    "# Getting a general level of understanding of the data, i.e. Five Number Summary along with counts, means and standard deviations.\n",
    "print ('-----------------------------------------')\n",
    "print ('Summary Statistics Prior to Data Handling')\n",
    "print ('-----------------------------------------')\n",
    "bank.describe() # Summary statistics, excluding NaN values"
   ]
  },
  {
   "cell_type": "code",
   "execution_count": 166,
   "metadata": {
    "collapsed": false,
    "scrolled": true
   },
   "outputs": [
    {
     "name": "stdout",
     "output_type": "stream",
     "text": [
      "----------------------------------------------------\n",
      "Data Types and Missing Values Prior to Data Handling\n",
      "----------------------------------------------------\n",
      "<class 'pandas.core.frame.DataFrame'>\n",
      "RangeIndex: 41188 entries, 0 to 41187\n",
      "Data columns (total 21 columns):\n",
      "age               41188 non-null int64\n",
      "job               41188 non-null object\n",
      "marital           41188 non-null object\n",
      "education         41188 non-null object\n",
      "default           41188 non-null object\n",
      "housing           41188 non-null object\n",
      "loan              41188 non-null object\n",
      "contact           41188 non-null object\n",
      "month             41188 non-null object\n",
      "day_of_week       41188 non-null object\n",
      "duration          41188 non-null int64\n",
      "campaign          41188 non-null int64\n",
      "pdays             41188 non-null int64\n",
      "previous          41188 non-null int64\n",
      "poutcome          41188 non-null object\n",
      "emp.var.rate      41188 non-null float64\n",
      "cons.price.idx    41188 non-null float64\n",
      "cons.conf.idx     41188 non-null float64\n",
      "euribor3m         41188 non-null float64\n",
      "nr.employed       41188 non-null float64\n",
      "y                 41188 non-null object\n",
      "dtypes: float64(5), int64(5), object(11)\n",
      "memory usage: 6.6+ MB\n",
      "None\n",
      "*Note: No missing values to impute.\n"
     ]
    }
   ],
   "source": [
    "# Checking variable types of features in the data set and examining counts.\n",
    "print ('----------------------------------------------------')\n",
    "print ('Data Types and Missing Values Prior to Data Handling')\n",
    "print ('----------------------------------------------------')\n",
    "print (bank.info()) # Summary of data set\n",
    "\n",
    "# Missing Value Handling\n",
    "# ----------------------\n",
    "# There are no missing values for any observations in this data set and all variables were the right type, given\n",
    "# their values.\n",
    "print ('*Note: No missing values to impute.')"
   ]
  },
  {
   "cell_type": "code",
   "execution_count": 168,
   "metadata": {
    "collapsed": false
   },
   "outputs": [
    {
     "name": "stdout",
     "output_type": "stream",
     "text": [
      "--------------------------------------------------------------\n",
      "Data Types and Missing Values after Removing Duplicate Records\n",
      "--------------------------------------------------------------\n",
      "<class 'pandas.core.frame.DataFrame'>\n",
      "Int64Index: 41176 entries, 0 to 41187\n",
      "Data columns (total 21 columns):\n",
      "age               41176 non-null int64\n",
      "job               41176 non-null object\n",
      "marital           41176 non-null object\n",
      "education         41176 non-null object\n",
      "default           41176 non-null object\n",
      "housing           41176 non-null object\n",
      "loan              41176 non-null object\n",
      "contact           41176 non-null object\n",
      "month             41176 non-null object\n",
      "day_of_week       41176 non-null object\n",
      "duration          41176 non-null int64\n",
      "campaign          41176 non-null int64\n",
      "pdays             41176 non-null int64\n",
      "previous          41176 non-null int64\n",
      "poutcome          41176 non-null object\n",
      "emp.var.rate      41176 non-null float64\n",
      "cons.price.idx    41176 non-null float64\n",
      "cons.conf.idx     41176 non-null float64\n",
      "euribor3m         41176 non-null float64\n",
      "nr.employed       41176 non-null float64\n",
      "y                 41176 non-null object\n",
      "dtypes: float64(5), int64(5), object(11)\n",
      "memory usage: 6.9+ MB\n",
      "*Note: 11 (~0.03%) observations were removed due to being duplicates.\n",
      "**41,176 (~99.9%) observations remain for analysis.\n"
     ]
    }
   ],
   "source": [
    "# Removing duplicate observations/clients from dataset\n",
    "bank2=bank.drop_duplicates()\n",
    "\n",
    "# Checking variable types of features in the data set and examining counts after removing duplicates.\n",
    "print ('--------------------------------------------------------------')\n",
    "print ('Data Types and Missing Values after Removing Duplicate Records')\n",
    "print ('--------------------------------------------------------------')\n",
    "bank2.info()\n",
    "print ('*Note: 11 (~0.03%) observations were removed due to being duplicates.')\n",
    "print ('**41,176 (~99.9%) observations remain for analysis.')"
   ]
  },
  {
   "cell_type": "code",
   "execution_count": 171,
   "metadata": {
    "collapsed": false
   },
   "outputs": [
    {
     "name": "stdout",
     "output_type": "stream",
     "text": [
      "--------------------------------------------------------------\n",
      "Re-checking Summary Statistics after Removing Duplicate Values\n",
      "--------------------------------------------------------------\n",
      "               age      duration      campaign         pdays      previous  \\\n",
      "count  41176.00000  41176.000000  41176.000000  41176.000000  41176.000000   \n",
      "mean      40.02380    258.315815      2.567879    962.464810      0.173013   \n",
      "std       10.42068    259.305321      2.770318    186.937102      0.494964   \n",
      "min       17.00000      0.000000      1.000000      0.000000      0.000000   \n",
      "25%       32.00000    102.000000      1.000000    999.000000      0.000000   \n",
      "50%       38.00000    180.000000      2.000000    999.000000      0.000000   \n",
      "75%       47.00000    319.000000      3.000000    999.000000      0.000000   \n",
      "max       98.00000   4918.000000     56.000000    999.000000      7.000000   \n",
      "\n",
      "       emp.var.rate  cons.price.idx  cons.conf.idx     euribor3m   nr.employed  \n",
      "count  41176.000000    41176.000000   41176.000000  41176.000000  41176.000000  \n",
      "mean       0.081922       93.575720     -40.502863      3.621293   5167.034870  \n",
      "std        1.570883        0.578839       4.627860      1.734437     72.251364  \n",
      "min       -3.400000       92.201000     -50.800000      0.634000   4963.600000  \n",
      "25%       -1.800000       93.075000     -42.700000      1.344000   5099.100000  \n",
      "50%        1.100000       93.749000     -41.800000      4.857000   5191.000000  \n",
      "75%        1.400000       93.994000     -36.400000      4.961000   5228.100000  \n",
      "max        1.400000       94.767000     -26.900000      5.045000   5228.100000  \n",
      "\n",
      "Notes:\n",
      "------\n",
      "*All values appear to be in line with results prior to removing duplicates.\n",
      "**Judging by the standard deviation (i.e. 'std') and 'max' values for the continuous variables below\n",
      "outliers do not appear to be a significant issue, as the deviations are reasonably low.\n"
     ]
    }
   ],
   "source": [
    "print ('--------------------------------------------------------------')\n",
    "print ('Re-checking Summary Statistics after Removing Duplicate Values')\n",
    "print ('--------------------------------------------------------------')\n",
    "print (bank2.describe())\n",
    "print ('')\n",
    "print ('Notes:')\n",
    "print ('------')\n",
    "print ('*All values appear to be in line with results prior to removing duplicates.')\n",
    "print (\"**Judging by the standard deviation (i.e. 'std') and 'max' values for the continuous variables below\")\n",
    "print (\"outliers do not appear to be a significant issue, as the deviations are reasonably low.\")"
   ]
  },
  {
   "cell_type": "code",
   "execution_count": 248,
   "metadata": {
    "collapsed": false
   },
   "outputs": [
    {
     "name": "stdout",
     "output_type": "stream",
     "text": [
      "----------------------\n",
      "Updated Variable Names\n",
      "----------------------\n",
      "<class 'pandas.core.frame.DataFrame'>\n",
      "Int64Index: 41176 entries, 0 to 41187\n",
      "Data columns (total 21 columns):\n",
      "age                          41176 non-null int64\n",
      "job_type                     41176 non-null object\n",
      "marital_status               41176 non-null object\n",
      "education_level              41176 non-null object\n",
      "curr_credit_default          41176 non-null object\n",
      "curr_housing_loan            41176 non-null object\n",
      "curr_personal_loan           41176 non-null object\n",
      "contact_type                 41176 non-null object\n",
      "last_contact_month           41176 non-null object\n",
      "last_contact_day             41176 non-null object\n",
      "duration                     41176 non-null int64\n",
      "num_campaign_contacts        41176 non-null int64\n",
      "days_since_last_contact      41176 non-null int64\n",
      "num_contacts_pre_campaign    41176 non-null int64\n",
      "prior_campaign_outcome       41176 non-null object\n",
      "emp_var_rate                 41176 non-null float64\n",
      "cons_price_idx               41176 non-null float64\n",
      "cons_conf_idx                41176 non-null float64\n",
      "euribor3m                    41176 non-null float64\n",
      "num_employees_qtr            41176 non-null float64\n",
      "target                       41176 non-null object\n",
      "dtypes: float64(5), int64(5), object(11)\n",
      "memory usage: 6.9+ MB\n",
      "\n",
      "*Variable types remain the same.\n"
     ]
    }
   ],
   "source": [
    "# Changing variable names to avoid syntax issues within the Python operating environment and to more intuitive names.\n",
    "bank3=bank2.rename(columns={'job':'job_type','marital':'marital_status','education':'education_level',\n",
    "                            'default':'curr_credit_default','housing':'curr_housing_loan','contact':'contact_type',\n",
    "                            'loan':'curr_personal_loan','month':'last_contact_month','day_of_week':'last_contact_day',\n",
    "                            'pdays':'days_since_last_contact','previous':'num_contacts_pre_campaign',\n",
    "                            'poutcome':'prior_campaign_outcome','emp.var.rate':'emp_var_rate','campaign':'num_campaign_contacts',\n",
    "                            'cons.price.idx':'cons_price_idx','cons.conf.idx':'cons_conf_idx','nr.employed':'num_employees_qtr','y':'target'})\n",
    "# New variable names:\n",
    "# -------------------\n",
    "# age = age\n",
    "# job = job_type\n",
    "# marital = marital_status\n",
    "# education  = education_level\n",
    "# default = curr_credit_default\n",
    "# housing = curr_housing_loan\n",
    "# loan = curr_personal_loan\n",
    "# contact = contact_type\n",
    "# month = last_contact_month\n",
    "# day_of_week = last_contact_day\n",
    "# duration = duration\n",
    "# campaign = num_campaign_contacts\n",
    "# pdays = days_since_lasts_contact\n",
    "# previous = num_contacts_pre_campaign\n",
    "# poutcome = prior_campaign_outcome\n",
    "# emp.var.rate = emp_var_rate\n",
    "# cons.price.idx = cons_price_idx\n",
    "# euribor3m = euribor3m\n",
    "# nr.employed = num_employees_qtr\n",
    "# y = target\n",
    "\n",
    "# Re-checking variable names\n",
    "print ('----------------------')\n",
    "print ('Updated Variable Names')\n",
    "print ('----------------------')\n",
    "bank3.info()\n",
    "print ('')\n",
    "print ('*Variable types remain the same.')"
   ]
  },
  {
   "cell_type": "code",
   "execution_count": 178,
   "metadata": {
    "collapsed": false
   },
   "outputs": [
    {
     "name": "stdout",
     "output_type": "stream",
     "text": [
      "----------------\n",
      "Box Plot - 'age'\n",
      "----------------\n",
      "\n",
      "*Analysis: Judging by the box plot below, outliers do not appear to be an issue.\n"
     ]
    },
    {
     "data": {
      "image/png": "[encoded data removed]",
      "text/plain": [
       "<matplotlib.figure.Figure at 0x1121b9b0>"
      ]
     },
     "metadata": {},
     "output_type": "display_data"
    }
   ],
   "source": [
    "# Double check of outlier values using box plots --Judging by the box plot below, outliers do not appear to \n",
    "# be an issue.\n",
    "print ('----------------')\n",
    "print (\"Box Plot - 'age'\")\n",
    "print ('----------------')\n",
    "sns.boxplot([bank3.age])\n",
    "print ('')\n",
    "print ('*Analysis: Judging by the box plot below, outliers do not appear to be an issue.')"
   ]
  },
  {
   "cell_type": "code",
   "execution_count": 179,
   "metadata": {
    "collapsed": false
   },
   "outputs": [
    {
     "name": "stdout",
     "output_type": "stream",
     "text": [
      "----------------------------------\n",
      "Box Plot - 'num_campaign_contacts'\n",
      "----------------------------------\n",
      "Axes(0.125,0.125;0.775x0.775)\n",
      "\n",
      "*Analysis: Judging by the box plot below, outliers appear reasonable given the\n",
      "context. That is, this variable represents how many times the client was contacted during the campaign, which could\n",
      "vary depending on the caller's judgment on how responsive the client may be.\n"
     ]
    },
    {
     "data": {
      "image/png": "[encoded data removed]",
      "text/plain": [
       "<matplotlib.figure.Figure at 0x10683240>"
      ]
     },
     "metadata": {},
     "output_type": "display_data"
    }
   ],
   "source": [
    "# Double check of outlier values using box plots --Judging by the box plot below, outliers appear reasonable given the\n",
    "# context. That is, this variable represents how many times the client was contacted during the campaign, which could \n",
    "# vary depending on the caller's judgment on how responsive the client may be.\n",
    "print ('----------------------------------')\n",
    "print (\"Box Plot - 'num_campaign_contacts'\")\n",
    "print ('----------------------------------')\n",
    "print (sns.boxplot([bank3.num_campaign_contacts]))\n",
    "print ('')\n",
    "print ('*Analysis: Judging by the box plot below, outliers appear reasonable given the')\n",
    "print ('context. That is, this variable represents how many times the client was contacted during the campaign, which could')\n",
    "print (\"vary depending on the caller's judgment on how responsive the client may be.\")"
   ]
  },
  {
   "cell_type": "code",
   "execution_count": 180,
   "metadata": {
    "collapsed": false
   },
   "outputs": [
    {
     "name": "stdout",
     "output_type": "stream",
     "text": [
      "------------------------------------\n",
      "Box Plot - 'days_since_last_contact'\n",
      "------------------------------------\n",
      "\n",
      "*Analysis: Judging by the box plot below, outliers do not appear to be an issue\n",
      "as the many '999' values in the data set indicate the client was not contacted.\n"
     ]
    },
    {
     "data": {
      "image/png": "[encoded data removed]",
      "text/plain": [
       "<matplotlib.figure.Figure at 0x11cf7358>"
      ]
     },
     "metadata": {},
     "output_type": "display_data"
    }
   ],
   "source": [
    "# Double check of outlier values using box plots --Judging by the box plot below, outliers do not appear to be an issue\n",
    "# as the many '999' values in the data set indicate the client was not contacted.\n",
    "print ('------------------------------------')\n",
    "print (\"Box Plot - 'days_since_last_contact'\")\n",
    "print ('------------------------------------')\n",
    "sns.boxplot([bank3.days_since_last_contact])\n",
    "print ('')\n",
    "print ('*Analysis: Judging by the box plot below, outliers do not appear to be an issue')\n",
    "print (\"as the many '999' values in the data set indicate the client was not contacted.\")"
   ]
  },
  {
   "cell_type": "code",
   "execution_count": 181,
   "metadata": {
    "collapsed": false
   },
   "outputs": [
    {
     "name": "stdout",
     "output_type": "stream",
     "text": [
      "------------------------------\n",
      "Box Plot - 'num_employees_qtr'\n",
      "------------------------------\n",
      "\n",
      "*Analysis: Judging by the box plot below, outliers do not appear to be an issue.\n"
     ]
    },
    {
     "data": {
      "image/png": "[encoded data removed]",
      "text/plain": [
       "<matplotlib.figure.Figure at 0x11cf73c8>"
      ]
     },
     "metadata": {},
     "output_type": "display_data"
    }
   ],
   "source": [
    "# Double check of outlier values using box plots --Judging by the box plot below, outliers do not appear to be an issue.\n",
    "print ('------------------------------')\n",
    "print (\"Box Plot - 'num_employees_qtr'\")\n",
    "print ('------------------------------')\n",
    "sns.boxplot([bank3.num_employees_qtr])\n",
    "print ('')\n",
    "print ('*Analysis: Judging by the box plot below, outliers do not appear to be an issue.')"
   ]
  },
  {
   "cell_type": "code",
   "execution_count": 182,
   "metadata": {
    "collapsed": false
   },
   "outputs": [
    {
     "name": "stdout",
     "output_type": "stream",
     "text": [
      "---------------------------\n",
      "Box Plot - 'cons_price_idx'\n",
      "---------------------------\n",
      "\n",
      "*Analysis: Judging by the box plot below, outliers do not appear to be an issue.\n"
     ]
    },
    {
     "data": {
      "image/png": "[encoded data removed]",
      "text/plain": [
       "<matplotlib.figure.Figure at 0x11319240>"
      ]
     },
     "metadata": {},
     "output_type": "display_data"
    }
   ],
   "source": [
    "# Double check of outlier values using box plots  --Judging by the box plot below, outliers do not appear to \n",
    "# be an issue.\n",
    "print ('---------------------------')\n",
    "print (\"Box Plot - 'cons_price_idx'\")\n",
    "print ('---------------------------')\n",
    "sns.boxplot([bank3.cons_price_idx])\n",
    "print ('')\n",
    "print ('*Analysis: Judging by the box plot below, outliers do not appear to be an issue.')"
   ]
  },
  {
   "cell_type": "code",
   "execution_count": 183,
   "metadata": {
    "collapsed": false
   },
   "outputs": [
    {
     "name": "stdout",
     "output_type": "stream",
     "text": [
      "----------------------\n",
      "Box Plot - 'euribor3m'\n",
      "----------------------\n",
      "\n",
      "*Analysis: Judging by the box plot below, outliers do not appear to be an issue.\n"
     ]
    },
    {
     "data": {
      "image/png": "[encoded data removed]",
      "text/plain": [
       "<matplotlib.figure.Figure at 0x103f3438>"
      ]
     },
     "metadata": {},
     "output_type": "display_data"
    }
   ],
   "source": [
    "# Double check of outlier values using box plots --Judging by the box plot below, outliers do not appear to \n",
    "# be an issue.\n",
    "print ('----------------------')\n",
    "print (\"Box Plot - 'euribor3m'\")\n",
    "print ('----------------------')\n",
    "sns.boxplot([bank3.euribor3m])\n",
    "print ('')\n",
    "print ('*Analysis: Judging by the box plot below, outliers do not appear to be an issue.')"
   ]
  },
  {
   "cell_type": "code",
   "execution_count": 184,
   "metadata": {
    "collapsed": false
   },
   "outputs": [
    {
     "name": "stdout",
     "output_type": "stream",
     "text": [
      "-------------------------\n",
      "Box Plot - 'emp_var_rate'\n",
      "-------------------------\n",
      "\n",
      "*Analysis: Judging by the box plot below, outliers do not appear to be an issue.\n"
     ]
    },
    {
     "data": {
      "image/png": "[encoded data removed]",
      "text/plain": [
       "<matplotlib.figure.Figure at 0x103e8080>"
      ]
     },
     "metadata": {},
     "output_type": "display_data"
    }
   ],
   "source": [
    "# Double check of outlier values using box plots  --Judging by the box plot below, outliers do not appear to \n",
    "# be an issue.\n",
    "print ('-------------------------')\n",
    "print (\"Box Plot - 'emp_var_rate'\")\n",
    "print ('-------------------------')\n",
    "sns.boxplot([bank3.emp_var_rate])\n",
    "print ('')\n",
    "print ('*Analysis: Judging by the box plot below, outliers do not appear to be an issue.')"
   ]
  },
  {
   "cell_type": "code",
   "execution_count": 249,
   "metadata": {
    "collapsed": false
   },
   "outputs": [],
   "source": [
    "# Creating Dummy binary variable for 'target' variable to use for counts, etc.\n",
    "target_2=[]\n",
    "for row in bank3['target']:\n",
    "    if row=='yes':\n",
    "        target_2.append(1)\n",
    "    else:\n",
    "        target_2.append(0)\n",
    "bank3['target_2']=target_2\n",
    "\n",
    "# Creating Dummy count variable.\n",
    "counter=[]\n",
    "for row in bank3['target']:\n",
    "    counter.append(1)\n",
    "bank3['counter']=counter\n",
    "\n",
    "# Source: http://chrisalbon.com/python/pandas_create_column_with_loop.html"
   ]
  },
  {
   "cell_type": "code",
   "execution_count": 250,
   "metadata": {
    "collapsed": false
   },
   "outputs": [
    {
     "name": "stdout",
     "output_type": "stream",
     "text": [
      "-----------------------------------------------------------------------------\n",
      "Checking 'target_2' and 'counter' dummy variables for proper types and values\n",
      "-----------------------------------------------------------------------------\n",
      "Type\n",
      "<class 'pandas.core.frame.DataFrame'>\n",
      "Int64Index: 41176 entries, 0 to 41187\n",
      "Data columns (total 23 columns):\n",
      "age                          41176 non-null int64\n",
      "job_type                     41176 non-null object\n",
      "marital_status               41176 non-null object\n",
      "education_level              41176 non-null object\n",
      "curr_credit_default          41176 non-null object\n",
      "curr_housing_loan            41176 non-null object\n",
      "curr_personal_loan           41176 non-null object\n",
      "contact_type                 41176 non-null object\n",
      "last_contact_month           41176 non-null object\n",
      "last_contact_day             41176 non-null object\n",
      "duration                     41176 non-null int64\n",
      "num_campaign_contacts        41176 non-null int64\n",
      "days_since_last_contact      41176 non-null int64\n",
      "num_contacts_pre_campaign    41176 non-null int64\n",
      "prior_campaign_outcome       41176 non-null object\n",
      "emp_var_rate                 41176 non-null float64\n",
      "cons_price_idx               41176 non-null float64\n",
      "cons_conf_idx                41176 non-null float64\n",
      "euribor3m                    41176 non-null float64\n",
      "num_employees_qtr            41176 non-null float64\n",
      "target                       41176 non-null object\n",
      "target_2                     41176 non-null int64\n",
      "counter                      41176 non-null int64\n",
      "dtypes: float64(5), int64(7), object(11)\n",
      "memory usage: 7.5+ MB\n",
      "None\n",
      "\n",
      "Values\n",
      "               age      duration  num_campaign_contacts  \\\n",
      "count  41176.00000  41176.000000           41176.000000   \n",
      "mean      40.02380    258.315815               2.567879   \n",
      "std       10.42068    259.305321               2.770318   \n",
      "min       17.00000      0.000000               1.000000   \n",
      "25%       32.00000    102.000000               1.000000   \n",
      "50%       38.00000    180.000000               2.000000   \n",
      "75%       47.00000    319.000000               3.000000   \n",
      "max       98.00000   4918.000000              56.000000   \n",
      "\n",
      "       days_since_last_contact  num_contacts_pre_campaign  emp_var_rate  \\\n",
      "count             41176.000000               41176.000000  41176.000000   \n",
      "mean                962.464810                   0.173013      0.081922   \n",
      "std                 186.937102                   0.494964      1.570883   \n",
      "min                   0.000000                   0.000000     -3.400000   \n",
      "25%                 999.000000                   0.000000     -1.800000   \n",
      "50%                 999.000000                   0.000000      1.100000   \n",
      "75%                 999.000000                   0.000000      1.400000   \n",
      "max                 999.000000                   7.000000      1.400000   \n",
      "\n",
      "       cons_price_idx  cons_conf_idx     euribor3m  num_employees_qtr  \\\n",
      "count    41176.000000   41176.000000  41176.000000       41176.000000   \n",
      "mean        93.575720     -40.502863      3.621293        5167.034870   \n",
      "std          0.578839       4.627860      1.734437          72.251364   \n",
      "min         92.201000     -50.800000      0.634000        4963.600000   \n",
      "25%         93.075000     -42.700000      1.344000        5099.100000   \n",
      "50%         93.749000     -41.800000      4.857000        5191.000000   \n",
      "75%         93.994000     -36.400000      4.961000        5228.100000   \n",
      "max         94.767000     -26.900000      5.045000        5228.100000   \n",
      "\n",
      "           target_2  counter  \n",
      "count  41176.000000  41176.0  \n",
      "mean       0.112663      1.0  \n",
      "std        0.316184      0.0  \n",
      "min        0.000000      1.0  \n",
      "25%        0.000000      1.0  \n",
      "50%        0.000000      1.0  \n",
      "75%        0.000000      1.0  \n",
      "max        1.000000      1.0  \n"
     ]
    }
   ],
   "source": [
    "# Check to see if \"target_2\" and \"counter\" dummy variables were created appropriateley.\n",
    "print ('-----------------------------------------------------------------------------')\n",
    "print (\"Checking 'target_2' and 'counter' dummy variables for proper types and values\")\n",
    "print ('-----------------------------------------------------------------------------')\n",
    "print ('Type')\n",
    "print (bank3.info())\n",
    "print ('')\n",
    "print ('Values')\n",
    "print (bank3.describe())\n"
   ]
  },
  {
   "cell_type": "code",
   "execution_count": 251,
   "metadata": {
    "collapsed": false
   },
   "outputs": [
    {
     "name": "stdout",
     "output_type": "stream",
     "text": [
      "-----------------------------------------\n",
      "Percentage Of Clients with a Term Deposit\n",
      "-----------------------------------------\n",
      "11.2662716145\n"
     ]
    }
   ],
   "source": [
    "# Percentage of clients with a term deposit\n",
    "print ('-----------------------------------------')\n",
    "print ('Percentage Of Clients with a Term Deposit')\n",
    "print ('-----------------------------------------')\n",
    "x=bank3['target_2'].sum()\n",
    "y=bank3['counter'].sum()\n",
    "print (float(x)/y)*100.0"
   ]
  },
  {
   "cell_type": "code",
   "execution_count": 252,
   "metadata": {
    "collapsed": false
   },
   "outputs": [
    {
     "name": "stdout",
     "output_type": "stream",
     "text": [
      "\n",
      "--------------------------------------------------\n",
      "Percentage Distribution of Subscribers by Job Type\n",
      "--------------------------------------------------\n",
      "*i.e. What percentage of subscribers have a term deposit by job type?\n",
      "job_type\n",
      "admin.           29.122656\n",
      "blue-collar      13.752964\n",
      "entrepreneur      2.672990\n",
      "housemaid         2.284975\n",
      "management        7.070489\n",
      "retired           9.355465\n",
      "self-employed     3.211899\n",
      "services          6.962707\n",
      "student           5.928002\n",
      "technician       15.736150\n",
      "unemployed        3.104117\n",
      "unknown           0.797586\n",
      "Name: target_2, dtype: float64\n",
      "\n",
      "---------\n",
      "Analysis:\n",
      "---------\n",
      "-->Judging by the above results, the majority of subscribers have 'administrative' or 'technical' jobs.\n",
      "- 'Administrative' job holders makes sense considering their incomes are probably higher providing them with extra\n",
      "disposable income to allocate for interest gaining purposes.\n",
      "--> While the lowest percentage is for 'housemaids', which is not beyond expectation.\n",
      "--> A surprising result is that a smaller percentage of subscribers are 'entrpreneurs', which one would think would represent a higher percentage, given\n",
      "their tendency for a higher degree of risk and hence a higher income. However, the data represents individuals\n",
      "in Portugal where the entrepreneurial climate may be different than that in the US. Additionally, a reasonable\n",
      "hypothesis would be that those in 'management' jobs would represent a higher percentage, but that doesn't appear to be the case.\n",
      "\n",
      "\n",
      "--------------------------------------------------------\n",
      "Percentage Distribution of Subscribers by Marital Status\n",
      "--------------------------------------------------------\n",
      "*i.e. What percentage of subscribers have a term deposit by marital status?\n",
      "marital_status\n",
      "divorced    10.260832\n",
      "married     54.559172\n",
      "single      34.921319\n",
      "unknown      0.258676\n",
      "Name: target_2, dtype: float64\n",
      "\n",
      "---------\n",
      "Analysis:\n",
      "---------\n",
      "--> The above results suggest over half of 'married' individuals possess a term deposit compared\n",
      "to 'single' or 'divorced' individuals. This follows logically, as married individuals typically are in a situation\n",
      "in which both spouses are employed, thereby providing additional income able to be used for a more\n",
      "discretionary pursuit.\n",
      "\n",
      "\n",
      "--------------------------------------------------------------------------\n",
      "Percentage Distribution of Subscribers based on Current Loan Default Status\n",
      "--------------------------------------------------------------------------\n",
      "*i.e. What percentage of subscribers have a term deposit by current credit status?\n",
      "curr_credit_default\n",
      "no         90.450528\n",
      "unknown     9.549472\n",
      "yes         0.000000\n",
      "Name: target_2, dtype: float64\n",
      "\n",
      "---------\n",
      "Analysis:\n",
      "---------\n",
      "--> The above results overwhelmingly suggest that individuals with no current credit defaults\n",
      "are much more likely to have a term deposit.\n"
     ]
    }
   ],
   "source": [
    "# Summary Statistics - Percentage of Clients with Term Deposit by Job Type\n",
    "# i.e. How many subscribers have a term deposit per job type?\n",
    "bank3_grouped_by_job=bank3.groupby(by='job_type') # Creating group by 'job_type' and 'target_2'\n",
    "print ('')\n",
    "print ('--------------------------------------------------')\n",
    "print ('Percentage Distribution of Subscribers by Job Type')\n",
    "print ('--------------------------------------------------')\n",
    "print ('*i.e. What percentage of subscribers have a term deposit by job type?')\n",
    "print (bank3_grouped_by_job.target_2.sum()/bank3['target_2'].sum())*100.0    # Percentage of subscribers by job type\n",
    "print ('')\n",
    "print ('---------')\n",
    "print ('Analysis:')\n",
    "print ('---------')\n",
    "print (\"-->Judging by the above results, the majority of subscribers have 'administrative' or 'technical' jobs.\")\n",
    "print (\"- 'Administrative' job holders makes sense considering their incomes are probably higher providing them with extra\")\n",
    "print (\"disposable income to allocate for interest gaining purposes.\")\n",
    "print (\"--> While the lowest percentage is for 'housemaids', which is not beyond expectation.\")\n",
    "print (\"--> A surprising result is that a smaller percentage of subscribers are 'entrpreneurs', which one would think would represent a higher percentage, given\")\n",
    "print (\"their tendency for a higher degree of risk and hence a higher income. However, the data represents individuals\")\n",
    "print (\"in Portugal where the entrepreneurial climate may be different than that in the US. Additionally, a reasonable\")\n",
    "print (\"hypothesis would be that those in 'management' jobs would represent a higher percentage, but that doesn't appear to be the case.\")\n",
    "print ('')\n",
    "\n",
    "# Summary Statistics - Percentage of Clients with Term Deposit by Marital Status\n",
    "# i.e. What percentage of subscribers have a term deposit by marital status?\n",
    "bank3_grouped_by_marital=bank3.groupby(by='marital_status') # Creating group by 'marital_status' and 'target_2'\n",
    "print ('')\n",
    "print ('--------------------------------------------------------')\n",
    "print ('Percentage Distribution of Subscribers by Marital Status')\n",
    "print ('--------------------------------------------------------')\n",
    "print ('*i.e. What percentage of subscribers have a term deposit by marital status?')\n",
    "print (bank3_grouped_by_marital.target_2.sum()/bank3['target_2'].sum())*100.0  # Percentage of subscribers by marital status\n",
    "print ('')\n",
    "print ('---------')\n",
    "print ('Analysis:')\n",
    "print ('---------')\n",
    "print (\"--> The above results suggest over half of 'married' individuals possess a term deposit compared\")\n",
    "print (\"to 'single' or 'divorced' individuals. This follows logically, as married individuals typically are in a situation\")\n",
    "print (\"in which both spouses are employed, thereby providing additional income able to be used for a more\")\n",
    "print (\"discretionary pursuit.\")\n",
    "print ('')\n",
    "\n",
    "# Summary Statistics - Percentage of Clients with Term Deposit by 'curr_credit_default'\n",
    "# i.e. How many subscribers have a term deposit given a current credit default?\n",
    "bank3_grouped_by_default=bank3.groupby(by='curr_credit_default') # Creating group by 'curr_credit_default' and 'target_2'\n",
    "print ('')\n",
    "print ('--------------------------------------------------------------------------')\n",
    "print ('Percentage Distribution of Subscribers based on Current Loan Default Status')\n",
    "print ('--------------------------------------------------------------------------')\n",
    "print ('*i.e. What percentage of subscribers have a term deposit by current credit status?')\n",
    "print (bank3_grouped_by_default.target_2.sum()/bank3['target_2'].sum())*100.0  # Percentage of subscribers by current credit status\n",
    "print ('')\n",
    "print ('---------')\n",
    "print ('Analysis:')\n",
    "print ('---------')\n",
    "print (\"--> The above results overwhelmingly suggest that individuals with no current credit defaults\")\n",
    "print (\"are much more likely to have a term deposit.\")"
   ]
  },
  {
   "cell_type": "code",
   "execution_count": 253,
   "metadata": {
    "collapsed": false
   },
   "outputs": [
    {
     "name": "stdout",
     "output_type": "stream",
     "text": [
      "\n",
      "-------------------------------------------------\n",
      "Percentage Distribution of Subscribers by Age Bin\n",
      "-------------------------------------------------\n",
      "*i.e. What percentage of subscribers have a term deposit by age group?\n",
      "age_range\n",
      "<=17      0.043113\n",
      "18-24     5.475318\n",
      "25-34    35.912912\n",
      "35-44    25.177840\n",
      "45-54    16.210390\n",
      "55-64    10.433283\n",
      "65-74     3.729252\n",
      "75+       3.017892\n",
      "Name: target_2, dtype: float64\n",
      "\n",
      "---------\n",
      "Analysis:\n",
      "---------\n",
      "--> The above results suggest over 75% of term deposit subscribers are between the ages of 25-54, with\n",
      "the largest percentage represented by those '25-34' years old. This intuitively makes sense as this group of\n",
      "individuals have probably settled into a career and are experiencing a steady income rise.\n"
     ]
    }
   ],
   "source": [
    "# Summary Statistics - Percentage of Clients with Term Deposit by 'Age Bins'\n",
    "# i.e. What percentage of subscribers have a term deposit by age bin?\n",
    "bank3['age_range'] = pd.cut(bank3.age,[0,17,24,34,44,54,64,74,100],8,labels=['<=17','18-24','25-34','35-44','45-54','55-64','65-74','75+'])\n",
    "\n",
    "# Summary Statistics - Percentage of Clients with Term Deposit by 'curr_credit_default'\n",
    "# i.e. How many subscribers have a term deposit given a current credit default?\n",
    "bank3_grouped_by_age=bank3.groupby(by='age_range') # Creating group by 'age'\n",
    "print ('')\n",
    "print ('-------------------------------------------------')\n",
    "print ('Percentage Distribution of Subscribers by Age Bin')\n",
    "print ('-------------------------------------------------')\n",
    "print ('*i.e. What percentage of subscribers have a term deposit by age group?')\n",
    "print (bank3_grouped_by_age.target_2.sum()/bank3['target_2'].sum())*100.0  # Percentage of subscribers by current credit status\n",
    "print ('')\n",
    "print ('---------')\n",
    "print ('Analysis:')\n",
    "print ('---------')\n",
    "print (\"--> The above results suggest over 75% of term deposit subscribers are between the ages of 25-54, with\")\n",
    "print (\"the largest percentage represented by those '25-34' years old. This intuitively makes sense as this group of\")\n",
    "print (\"individuals have probably settled into a career and are experiencing a steady income rise.\")"
   ]
  },
  {
   "cell_type": "code",
   "execution_count": 254,
   "metadata": {
    "collapsed": false
   },
   "outputs": [
    {
     "name": "stdout",
     "output_type": "stream",
     "text": [
      "Analysis:\n",
      "---------\n",
      "--> As noticed earlier, the below graph suggests those with an 'admin' job type represent a higher percentage of\n",
      "individuals with a term deposit relative to those with other job types. This helps to provide a better idea as to\n",
      "how this particular feature will impact the class a customer falls into, i.e. 'subscribe' or 'not subscribe'.\n"
     ]
    },
    {
     "data": {
      "image/png": "[encoded data removed]",
      "text/plain": [
       "<matplotlib.figure.Figure at 0x10a146a0>"
      ]
     },
     "metadata": {},
     "output_type": "display_data"
    }
   ],
   "source": [
    "## Visualize appropriate statistics for a subset of attributes.\n",
    "# Percentage of Subscribers by Job Type\n",
    "plt.style.use('ggplot')\n",
    "bank3_grouped_by_job=bank3.groupby(by='job_type')\n",
    "subscriber_rate_by_job=(bank3_grouped_by_job.target_2.sum()/bank3['target_2'].sum())*100.0\n",
    "#print ('Percentage of Subscribers of Term Deposits by Job Type')\n",
    "ax=subscriber_rate_by_job.plot(kind='barh')\n",
    "print ('Analysis:')\n",
    "print ('---------')\n",
    "print (\"--> As noticed earlier, the below graph suggests those with an 'admin' job type represent a higher percentage of\")\n",
    "print (\"individuals with a term deposit relative to those with other job types. This helps to provide a better idea as to\")\n",
    "print (\"how this particular feature will impact the class a customer falls into, i.e. 'subscribe' or 'not subscribe'.\")"
   ]
  },
  {
   "cell_type": "code",
   "execution_count": 255,
   "metadata": {
    "collapsed": false
   },
   "outputs": [
    {
     "name": "stdout",
     "output_type": "stream",
     "text": [
      "Analysis:\n",
      "---------\n",
      "--> The below graph suggests over half of those with a term deposit current have a housing loan. This is\n",
      "reasonable considering individuals who currently have credit will probably be more likely the population to access\n",
      "additional asset bearing opportunities. The 'unknown' population are those few customers in which there is currently\n",
      "no information to determine their housing loan status. This helps to provide a better idea as to how whether or not\n",
      "having a house loan will impact the class a customer falls into, i.e. 'subscribe' or 'not subscribe'.\n"
     ]
    },
    {
     "data": {
      "image/png": "[encoded data removed]",
      "text/plain": [
       "<matplotlib.figure.Figure at 0x10c417b8>"
      ]
     },
     "metadata": {},
     "output_type": "display_data"
    }
   ],
   "source": [
    "## Visualize appropriate statistics for a subset of attributes.\n",
    "# Percentage of Subscribers by whether or not the customer has a current housing loan.\n",
    "plt.style.use('ggplot')\n",
    "bank3_grouped_by_house=bank3.groupby(by='curr_housing_loan')\n",
    "subscriber_rate_by_house=(bank3_grouped_by_house.target_2.sum()/bank3['target_2'].sum())*100.0\n",
    "ax=subscriber_rate_by_house.plot(kind='barh')\n",
    "print ('Analysis:')\n",
    "print ('---------')\n",
    "print (\"--> The below graph suggests over half of those with a term deposit current have a housing loan. This is\")\n",
    "print (\"reasonable considering individuals who currently have credit will probably be more likely the population to access\")\n",
    "print (\"additional asset bearing opportunities. The 'unknown' population are those few customers in which there is currently\")\n",
    "print (\"no information to determine their housing loan status. This helps to provide a better idea as to how whether or not\")\n",
    "print (\"having a house loan will impact the class a customer falls into, i.e. 'subscribe' or 'not subscribe'.\")"
   ]
  },
  {
   "cell_type": "code",
   "execution_count": 256,
   "metadata": {
    "collapsed": false
   },
   "outputs": [
    {
     "name": "stdout",
     "output_type": "stream",
     "text": [
      "Analysis:\n",
      "---------\n",
      "--> The below graph sugggests that two groups represent a higher proportion of those subscribing to a\n",
      "term deposit relative to other groups, namely, 'married, with a university degree' and 'single, with a\n",
      "university degree. This intuitively follows as those with more education will most likely have higher incomes\n",
      "and hence access to more discretionary income to use for a term deposit, relative to other groups.\n",
      "Additionally, it's reasonable to assume that more education will influence how an individual allocates their\n",
      "resources, with potentially more used for investment as they plan for future costs. This helps provide\n",
      "a better idea as to how the combination of 'marital status' and 'education level' will impact the class a customer\n",
      "falls into, i.e. 'subscribe' or 'not subscribe'.\n"
     ]
    },
    {
     "data": {
      "image/png": "[encoded data removed]",
      "text/plain": [
       "<matplotlib.figure.Figure at 0x13071e80>"
      ]
     },
     "metadata": {},
     "output_type": "display_data"
    }
   ],
   "source": [
    "## Visualize appropriate statistics for a subset of attributes.\n",
    "# Frequency of Subscribers by Marital Status and Education Level\n",
    "subscriber_counts = pd.crosstab([bank3['marital_status'],bank3['education_level']], \n",
    "                              bank3.target_2.astype(bool))\n",
    "subscriber_counts.plot(kind='bar', \n",
    "                     stacked=True)\n",
    "print ('Analysis:')\n",
    "print ('---------')\n",
    "print (\"--> The below graph sugggests that two groups represent a higher proportion of those subscribing to a\")\n",
    "print (\"term deposit relative to other groups, namely, 'married, with a university degree' and 'single, with a\")\n",
    "print (\"university degree. This intuitively follows as those with more education will most likely have higher incomes\")\n",
    "print (\"and hence access to more discretionary income to use for a term deposit, relative to other groups.\")\n",
    "print (\"Additionally, it's reasonable to assume that more education will influence how an individual allocates their\")\n",
    "print (\"resources, with potentially more used for investment as they plan for future costs. This helps provide\")\n",
    "print (\"a better idea as to how the combination of 'marital status' and 'education level' will impact the class a customer\")\n",
    "print (\"falls into, i.e. 'subscribe' or 'not subscribe'.\")"
   ]
  },
  {
   "cell_type": "code",
   "execution_count": 216,
   "metadata": {
    "collapsed": false
   },
   "outputs": [
    {
     "name": "stdout",
     "output_type": "stream",
     "text": [
      "Analysis:\n",
      "---------\n",
      "--> The below graph suggests customers who subscribed to a term deposit were contacted the most, on average,\n",
      "prior to the campaign. It really shows that persistence counts for something. And considering the notable difference\n",
      "between the two groups, this feature is likely to be very predictive in classifying customers as 'subscribers' or 'not subscribers.'\n"
     ]
    },
    {
     "data": {
      "image/png": "[encoded data removed]",
      "text/plain": [
       "<matplotlib.figure.Figure at 0x10ec4fd0>"
      ]
     },
     "metadata": {},
     "output_type": "display_data"
    }
   ],
   "source": [
    "## Visualize appropriate statistics for a subset of attributes.\n",
    "# How does \"days_since_last_contact\" influence whether or not a customer subscribes to a term deposit?\n",
    "sns.set_style(\"whitegrid\")\n",
    "ax = sns.barplot(x=\"target_2\",y=\"num_contacts_pre_campaign\",data=bank3)\n",
    "print ('Analysis:')\n",
    "print ('---------')\n",
    "print (\"--> The below graph suggests customers who subscribed to a term deposit were contacted the most, on average,\")\n",
    "print (\"prior to the campaign. It really shows that persistence counts for something. And considering the notable difference\")\n",
    "print (\"between the two groups, this feature is likely to be very predictive in classifying customers as 'subscribers' or 'not subscribers.'\")"
   ]
  },
  {
   "cell_type": "code",
   "execution_count": 260,
   "metadata": {
    "collapsed": false
   },
   "outputs": [
    {
     "name": "stdout",
     "output_type": "stream",
     "text": [
      "Analysis:\n",
      "---------\n",
      "'Entrepreneurs' and 'blue collar' workers who had term deposits averaged longer contact duration with\n",
      "the bank. Whereas 'unemployed' spent the least time. 'Retirees' and 'Students' who had no term deposits had\n",
      "longer contact times with the bank, while the 'housemaids' had the least. This is significant as it may\n",
      "be helpful to create dummy variables using specific job types as a means to help classify customers.\n"
     ]
    },
    {
     "data": {
      "image/png": "[encoded data removed]",
      "text/plain": [
       "<matplotlib.figure.Figure at 0x11d34e80>"
      ]
     },
     "metadata": {},
     "output_type": "display_data"
    }
   ],
   "source": [
    "## Visualize relationships between attributes.\n",
    "bank3_grouped = bank3.groupby(by=['target_2','job_type'])\n",
    "subscriber_rate = bank3_grouped.duration.mean()\n",
    "ax = subscriber_rate.plot(kind='barh')\n",
    "print (\"Analysis:\")\n",
    "print ('---------')\n",
    "print (\"'Entrepreneurs' and 'blue collar' workers who had term deposits averaged longer contact duration with\") \n",
    "print (\"the bank. Whereas 'unemployed' spent the least time. 'Retirees' and 'Students' who had no term deposits had\")\n",
    "print (\"longer contact times with the bank, while the 'housemaids' had the least. This is significant as it may\")\n",
    "print (\"be helpful to create dummy variables using specific job types as a means to help classify customers.\")"
   ]
  },
  {
   "cell_type": "code",
   "execution_count": 261,
   "metadata": {
    "collapsed": false,
    "scrolled": false
   },
   "outputs": [
    {
     "name": "stdout",
     "output_type": "stream",
     "text": [
      "<class 'pandas.core.frame.DataFrame'>\n",
      "Int64Index: 41176 entries, 0 to 41187\n",
      "Data columns (total 22 columns):\n",
      "age                          41176 non-null int64\n",
      "job_type                     41176 non-null object\n",
      "marital_status               41176 non-null object\n",
      "education_level              41176 non-null object\n",
      "curr_credit_default          41176 non-null object\n",
      "curr_housing_loan            41176 non-null object\n",
      "curr_personal_loan           41176 non-null object\n",
      "contact_type                 41176 non-null object\n",
      "last_contact_month           41176 non-null object\n",
      "last_contact_day             41176 non-null object\n",
      "num_campaign_contacts        41176 non-null int64\n",
      "days_since_last_contact      41176 non-null int64\n",
      "num_contacts_pre_campaign    41176 non-null int64\n",
      "prior_campaign_outcome       41176 non-null object\n",
      "emp_var_rate                 41176 non-null float64\n",
      "cons_price_idx               41176 non-null float64\n",
      "cons_conf_idx                41176 non-null float64\n",
      "euribor3m                    41176 non-null float64\n",
      "num_employees_qtr            41176 non-null float64\n",
      "target                       41176 non-null object\n",
      "target_2                     41176 non-null int64\n",
      "age_range                    41176 non-null category\n",
      "dtypes: category(1), float64(5), int64(5), object(11)\n",
      "memory usage: 7.0+ MB\n",
      "None\n",
      "*Note: The variables 'duration' and 'counter' have been removed from the data set.\n",
      "\n",
      "Analysis:\n",
      "---------\n",
      "A heat map illustrates the correlation between continuous variables. It\n",
      "provides evidence of significant positive or negative relationships between potential explanatory\n",
      "variables and the response variable. As noticed below, 'num_contacts_per_campaign'\n",
      "and 'cons_conf_idx' appear to be positively correlated, while 'num_employees_qtr' and 'euribor_3m'\n",
      "appear to be inversely related. The variable 'num_contacts_per_campaign' is noteworthy in that\n",
      "this trend is anticipated as it seems reasonable the more a customer is contacted, the higher\n",
      "the chance they'll subscribe to a term deposit, which is also noticed in the prior plot.\n"
     ]
    },
    {
     "data": {
      "image/png": "[encoded data removed]",
      "text/plain": [
       "<matplotlib.figure.Figure at 0xe62a6d8>"
      ]
     },
     "metadata": {},
     "output_type": "display_data"
    }
   ],
   "source": [
    "## Visualize relationships between attributes.\n",
    "\n",
    "# Removing \"duration\" from data set due to it's relationship with the target variable as detailed by the \n",
    "# data providers.\"\n",
    "if 'duration' in bank3:\n",
    "    del bank3['duration']\n",
    "if 'counter' in bank3:\n",
    "    del bank3['counter']\n",
    "# Double checking to ensure 'duration' and 'counter' have been removed from the data set\n",
    "print (bank3.info())\n",
    "print (\"*Note: The variables 'duration' and 'counter' have been removed from the data set.\")\n",
    "\n",
    "cmap = sns.diverging_palette(220, 10, as_cmap=True)\n",
    "sns.set(style=\"darkgrid\") # one of the many styles to plot using\n",
    "f, ax = plt.subplots(figsize=(9, 9))\n",
    "sns.heatmap(bank3.corr(), cmap=cmap, annot=True)\n",
    "f.tight_layout()\n",
    "print ('')\n",
    "print ('Analysis:')\n",
    "print ('---------')\n",
    "print(\"A heat map illustrates the correlation between continuous variables. It\") \n",
    "print (\"provides evidence of significant positive or negative relationships between potential explanatory\") \n",
    "print (\"variables and the response variable. As noticed below, 'num_contacts_per_campaign'\")\n",
    "print (\"and 'cons_conf_idx' appear to be positively correlated, while 'num_employees_qtr' and 'euribor_3m'\")\n",
    "print (\"appear to be inversely related. The variable 'num_contacts_per_campaign' is noteworthy in that\")\n",
    "print (\"this trend is anticipated as it seems reasonable the more a customer is contacted, the higher\")\n",
    "print (\"the chance they'll subscribe to a term deposit, which is also noticed in the prior plot.\")"
   ]
  },
  {
   "cell_type": "code",
   "execution_count": 262,
   "metadata": {
    "collapsed": false
   },
   "outputs": [
    {
     "name": "stdout",
     "output_type": "stream",
     "text": [
      "Analysis:\n",
      "---------\n",
      "The Employment Variations were higher for those who did not subscribe to term deposits, with the\n",
      "largest variation rate occuring for 'housemaids'. 'Students' and 'Retired' had the lowest variation rate, which\n",
      "makes sense, as these groups are the least likely to exhibit frequent changes in employment. Again, this helps\n",
      "provide a better idea as to which features will help classify subscribers going forward.\n"
     ]
    },
    {
     "data": {
      "image/png": "[encoded data removed]",
      "text/plain": [
       "<matplotlib.figure.Figure at 0xe284d30>"
      ]
     },
     "metadata": {},
     "output_type": "display_data"
    }
   ],
   "source": [
    "bank3_grouped = bank3.groupby(by=['target_2','job_type'])\n",
    "subscribed_rate = bank3_grouped.emp_var_rate.mean()\n",
    "ax = subscribed_rate.plot(kind='barh')\n",
    "print (\"Analysis:\")\n",
    "print ('---------')\n",
    "print (\"The Employment Variations were higher for those who did not subscribe to term deposits, with the\") \n",
    "print (\"largest variation rate occuring for 'housemaids'. 'Students' and 'Retired' had the lowest variation rate, which\")\n",
    "print (\"makes sense, as these groups are the least likely to exhibit frequent changes in employment. Again, this helps\")\n",
    "print (\"provide a better idea as to which features will help classify subscribers going forward.\")"
   ]
  },
  {
   "cell_type": "code",
   "execution_count": 268,
   "metadata": {
    "collapsed": false
   },
   "outputs": [
    {
     "name": "stdout",
     "output_type": "stream",
     "text": [
      "---------------------------------------------------\n",
      "Relationships Between Features and Class to Predict\n",
      "---------------------------------------------------\n",
      "Aside from education, marital-status, income, job-type and credit standing above\n",
      "that have a positive/negative relationship, we also identify: duration,\n",
      "'con_price_idx', and contact_type.\n",
      "'Call duration': longer calls appeared to play a key role in a positive outcome.\n",
      "Con_conf_idx, is also favorable to the marketing campaign, and \n",
      "'Contact_type' too, plays a positive role in closing a sale. This feature is categorical.\n",
      "The data show that contacting clients with mobilesets is more productive.\n",
      "\n",
      "*As further analysis and exploration of the data set continues, additional correlations and key insights will\n",
      "undoubtedly unfold.\n"
     ]
    }
   ],
   "source": [
    "## Identify and explain interesting relationships between features and class to predict.\n",
    "print ('---------------------------------------------------')\n",
    "print ('Relationships Between Features and Class to Predict')\n",
    "print ('---------------------------------------------------')\n",
    "print ('Aside from education, marital-status, income, job-type and credit standing above')\n",
    "print ('that have a positive/negative relationship, we also identify: duration,')\n",
    "print (\"'con_price_idx', and contact_type.\")\n",
    "print (\"'Call duration': longer calls appeared to play a key role in a positive outcome.\")\n",
    "print ('Con_conf_idx, is also favorable to the marketing campaign, and ')\n",
    "print (\"'Contact_type' too, plays a positive role in closing a sale. This feature is categorical.\")\n",
    "print ('The data show that contacting clients with mobilesets is more productive.')\n",
    "print('')\n",
    "print (\"*As further analysis and exploration of the data set continues, additional correlations and key insights will\")\n",
    "print (\"undoubtedly unfold.\")"
   ]
  },
  {
   "cell_type": "code",
   "execution_count": null,
   "metadata": {
    "collapsed": true
   },
   "outputs": [],
   "source": [
    "## Other features to add.\n",
    "#  ----------------------\n",
    "\n",
    "# For this project 20 attributes could be used for explanatory inputs. For a better understanding in \n",
    "# regards to the financial capabilities of the customer, more data would be needed. This would potentially include: \n",
    "#    (a) Amount of credit cards the individual customer currently had open\n",
    "#    (b) Debt to income ratio to better determine if the customer had the financial capabilities to \n",
    "#    carry the long term loans. \n",
    "# This additional data could be quite useful towards providing a better telemarketing program."
   ]
  },
  {
   "cell_type": "code",
   "execution_count": null,
   "metadata": {
    "collapsed": true
   },
   "outputs": [],
   "source": [
    "## Additional Analysis ('Random Forest Classifier')\n",
    "# -----------------------------------------------------------------------------------------------------------------\n",
    "# Currently, this code is still undergoing development with several bugs to work through, but it is a worthy start.\n",
    "# -----------------------------------------------------------------------------------------------------------------\n",
    "\n",
    "# Importing the dataset\n",
    "# Changing variable names to avoid syntax issues within the Python operating environment and to more intuitive names.\n",
    "bank3=bank2.rename(columns={'job':'job_type','marital':'marital_status','education':'education_level',\n",
    "                            'default':'curr_credit_default','housing':'curr_housing_loan','contact':'contact_type',\n",
    "                            'loan':'curr_personal_loan','month':'last_contact_month','day_of_week':'last_contact_day',\n",
    "                            'pdays':'days_since_last_contact','previous':'num_contacts_pre_campaign',\n",
    "                            'poutcome':'prior_campaign_outcome','emp.var.rate':'emp_var_rate','campaign':'num_campaign_contacts',\n",
    "                            'cons.price.idx':'cons_price_idx','cons.conf.idx':'cons_conf_idx','nr.employed':'num_employees_qtr','y':'target'})\n",
    "dataset=bank3\n",
    "X = dataset.iloc[:,[0,16]].values\n",
    "y = dataset.iloc[:, 20].values\n",
    "\n",
    "from sklearn.preprocessing import LabelEncoder, OneHotEncoder\n",
    "labelencoder_X = LabelEncoder()\n",
    "labelencoder_y  = LabelEncoder()\n",
    "y = labelencoder_y.fit_transform(y)\n",
    "\n",
    "#Splitting the data set into the Training set and Test set\n",
    "from sklearn.cross.validation import train_test_split\n",
    "X_train, X_test, Y_train, Y_test = train_test_split(X,Y,test_size = 0.25, random_state =0)\n",
    "\n",
    "#Feature Scaling\n",
    "from sklearn.preprocessing import StandarScaler\n",
    "sc= StandardScaler()\n",
    "X_train = sc.fit_transform(X_train)\n",
    "X_test = sc.transform(X_test)\n",
    "                           \n",
    "\n",
    "#Fitting classifier to the Training Set\n",
    "from sklearn.ensemble import RandomForestClassifier\n",
    "classifier = RandomForestClassifier(n_estimator=5, criterion = 'entropy', random_state=0)\n",
    "classifier.fit(X_Train, Y_train)\n",
    "                           \n",
    "#Predicting the Test set results\n",
    "y_pred = classifier.predict(X_test)\n",
    "                           \n",
    "#Makeing the Confusion Matrix\n",
    "from sklearn.metrics import confusion_Matrix\n",
    "cm = confusion_matrix(Y_test, y_pred)\n",
    "                           \n",
    "#Visualising the Training set results\n",
    "from matplotlib.colors import ListedColormap\n",
    "X_set, Y_set = X_train, Y_train\n",
    "X1, X2 = mp.meshgrid(np.arange(start = X_set[:,0].min() -1, stop = X_set[:,0].max() + 1, step = 0.01),\n",
    "                     np.arange(start = X_set[:,1].min() -1, stop = X_set[:,1].max() + 1, step = 0.01))\n",
    "plt.contourf(X1, X2, classifier.predict(np.array([X1.ravel(), X2.ravel()]).T).reshape(X1.shape),\n",
    "             alpha = 0.75, cmap = ListedColormap(('red','green')))\n",
    "plt.xlim(X1.min(), X1.max())\n",
    "plt.ylim(X2.min(), X2.max()) \n",
    "for i, j in enumerate(np.unique(y_set)):\n",
    "    plt.scatter(X_set[Y_set == j, 0], X_set[Y_set[Y_set == j, 1]],\n",
    "                c = ListedColormap(('red','green'))(i), label = j0)\n",
    "plt.title('Random Forest(Training set)')\n",
    "plt.xlabel('Age')\n",
    "plt.ylabel('Consumer Confidence index')\n",
    "plt.legend()\n",
    "plt.show()\n",
    "\n",
    "                                            \n",
    "#Visualising the Test set results\n",
    "from matplit.colors import ListedColormap\n",
    "X_set, Y_set = X_test, Y_test\n",
    "X1, X2 = np.meshgrid(np.arange(start = X_set[:, 0].min() -1, stop = X_set[:,0].max() + 1, step = 0.01),\n",
    "                     np.arange(start = X_set[:, 1].min() -1, stop = X_set[:, 1].max() + 1, step = 0.01))\n",
    "plt.contourf(X1, X2, classifier.predict(np.array([X11.ravel(), X2.ravel()]).T).reshape(X1.shape),\n",
    "             alpha = 0.75, cmap = ListedColormap(('red', 'green')))\n",
    "plt.xlim(X1.min(), X1.max())\n",
    "plt.ylim(X2.min(), X2.max())\n",
    "for i, j in enumerate(mp.unique(y_set)):\n",
    "    plt.scatter(X_set[Y_set == j, 0], X_set[Y_set == j, 1],\n",
    "               c = ListedColormap(('red', 'green'))(i), label = j)\n",
    "plt.title('Random Forest (Test set)')\n",
    "plt.xlabel('Age')\n",
    "plt.ylabel('Consumer Confidence Index')\n",
    "plt.legend()\n",
    "plt.show()"
   ]
  }
 ],
 "metadata": {
  "anaconda-cloud": {},
  "kernelspec": {
   "display_name": "Python [Root]",
   "language": "python",
   "name": "Python [Root]"
  },
  "language_info": {
   "codemirror_mode": {
    "name": "ipython",
    "version": 2
   },
   "file_extension": ".py",
   "mimetype": "text/x-python",
   "name": "python",
   "nbconvert_exporter": "python",
   "pygments_lexer": "ipython2",
   "version": "2.7.12"
  }
 },
 "nbformat": 4,
 "nbformat_minor": 0
}
